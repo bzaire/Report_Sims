{
 "cells": [
  {
   "cell_type": "markdown",
   "metadata": {},
   "source": [
    "# Differential rotation + meridional circulation\n",
    "\n",
    "Differential rotation in the reference frame (colors) and meridional circulation (stream lines). Fully convective simulations are shown in the top row and simulations with a stable inner zone in the bottom row. The level of saturation adopted for the angular velocity of each run is specified in each panel. The Rayleigh number adopted for each run is shown in the top of each panel as a function of the critical Rayleigh number $Ra_c$, at which the convective instability starts to be triggered.\n",
    "\n",
    "<img src=\"figs/omegaNr3.png\" />\n",
    "<img src=\"figs/omegaNr15.png\" />\n",
    "<img src=\"figs/omegaNr1.png\" />\n",
    "\n",
    "\n",
    "## Radial dependence at various latitudes ($\\theta$)\n",
    "\n",
    "- y-limits are kept constant for runs with the same density contrast.\n",
    "\n",
    "- Angles are given with respect to the equator. \n",
    "\n",
    "- the vertical dashed line indicates the radial transition from the zone stable to convection to the one unstable.\n",
    "\n",
    "<img src=\"figs/OLatNr3.png\" />\n",
    "<img src=\"figs/OLatNr15.png\" />\n",
    "<img src=\"figs/OLatNr1.png\" />\n",
    "\n",
    "We can notice that the the differential rotation becomes stronger for increasing Rayleigh. With the exception of the fully convective case with density contrast $N_\\rho=3$, the higher Rayleigh runs reached a solar-like profile with the equator (red curves) rotating faster than the other latitudes. Moreover, we find that the radiative \n",
    "core in the partially convective cases seem to rotate faster than the convective envelope and mostly as a solid-body.\n"
   ]
  }
 ],
 "metadata": {
  "kernelspec": {
   "display_name": "Python 3",
   "language": "python",
   "name": "python3"
  },
  "language_info": {
   "codemirror_mode": {
    "name": "ipython",
    "version": 3
   },
   "file_extension": ".py",
   "mimetype": "text/x-python",
   "name": "python",
   "nbconvert_exporter": "python",
   "pygments_lexer": "ipython3",
   "version": "3.7.2"
  },
  "latex_envs": {
   "LaTeX_envs_menu_present": true,
   "autoclose": false,
   "autocomplete": true,
   "bibliofile": "biblio.bib",
   "cite_by": "apalike",
   "current_citInitial": 1,
   "eqLabelWithNumbers": true,
   "eqNumInitial": 1,
   "hotkeys": {
    "equation": "Ctrl-E",
    "itemize": "Ctrl-I"
   },
   "labels_anchors": false,
   "latex_user_defs": false,
   "report_style_numbering": false,
   "user_envs_cfg": false
  }
 },
 "nbformat": 4,
 "nbformat_minor": 2
}
