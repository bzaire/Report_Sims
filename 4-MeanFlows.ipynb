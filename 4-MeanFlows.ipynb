{
 "cells": [
  {
   "cell_type": "markdown",
   "metadata": {},
   "source": [
    "# Differential rotation + meridional circulation\n",
    "\n",
    "Differential rotation in the reference frame (colours) and meridional circulation (stream lines). Rayleigh number grows from left to right.\n",
    "\n",
    "<img src=\"figs/omegaNr3.png\" />\n",
    "<img src=\"figs/omegaNr15.png\" />\n",
    "<img src=\"figs/omegaNr1.png\" />\n"
   ]
  },
  {
   "cell_type": "code",
   "execution_count": null,
   "metadata": {},
   "outputs": [],
   "source": []
  }
 ],
 "metadata": {
  "kernelspec": {
   "display_name": "Python 3",
   "language": "python",
   "name": "python3"
  },
  "language_info": {
   "codemirror_mode": {
    "name": "ipython",
    "version": 3
   },
   "file_extension": ".py",
   "mimetype": "text/x-python",
   "name": "python",
   "nbconvert_exporter": "python",
   "pygments_lexer": "ipython3",
   "version": "3.7.2"
  }
 },
 "nbformat": 4,
 "nbformat_minor": 2
}
