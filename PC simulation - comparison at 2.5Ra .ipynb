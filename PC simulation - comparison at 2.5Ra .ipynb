{
 "cells": [
  {
   "cell_type": "markdown",
   "metadata": {},
   "source": [
    "# Partially convective simulation at $2.5 Ra_c$\n",
    "\n",
    "Here we compare two simulations with different boundary conditions and  initializaitons"
   ]
  },
  {
   "cell_type": "code",
   "execution_count": 18,
   "metadata": {},
   "outputs": [],
   "source": [
    "# Define paths of simulations to be compared\n",
    "\n",
    "WORK_DIR = \"/tmpdir/zaire/mhd/\"\n",
    "PATH1 = WORK_DIR + \"Nr15Ek5Ra7dS200Pm5\"               # Simulation with boundary condition S\n",
    "PATH2 = WORK_DIR + \"Nr15Ek5Ra7dS200Pm5_bdsdr_init0\"   # Simulation with boundary condition ds/dr and starting from 0."
   ]
  },
  {
   "cell_type": "code",
   "execution_count": 22,
   "metadata": {},
   "outputs": [],
   "source": [
    "# Read simulations' data\n",
    "os.chdir(PATH1)\n",
    "ts1 = MagicTs(field='par', all=True, iplot=False)\n",
    "os.chdir(PATH2)\n",
    "ts2 = MagicTs(field='par', all=True, iplot=False)\n",
    "ts1.time -= 7.8"
   ]
  },
  {
   "cell_type": "code",
   "execution_count": 23,
   "metadata": {},
   "outputs": [],
   "source": [
    "it1 = ts1.time.argsort()\n",
    "it2 = ts2.time.argsort()\n",
    "plt.plot(ts1.time[it1], ts1.dip_cmb[it1], 'k')\n",
    "plt.plot(ts2.time[it2], ts2.dip_cmb[it2], 'r')\n",
    "plt.ylabel(r'$f_\\mathrm{dip}$')\n",
    "plt.xlabel(r'$t \\; (\\tau_\\nu)$')\n",
    "plt.ylim((0.,1.01))\n",
    "#plt.xlim((0.02,1.))\n",
    "plt.tight_layout()\n",
    "plt.show()\n"
   ]
  },
  {
   "cell_type": "code",
   "execution_count": 21,
   "metadata": {},
   "outputs": [],
   "source": [
    "fig, ax = plt.subplots(2, sharex=True)\n",
    "it1 = ts1.time.argsort()\n",
    "it2 = ts2.time.argsort()\n",
    "ax[0].plot(ts1.time[it1], ts1.rm[it1], 'k')\n",
    "ax[0].plot(ts2.time[it2], ts2.rm[it2], 'r')\n",
    "ax[1].plot(ts1.time[it1], ts1.rolc[it1], 'k')\n",
    "ax[1].plot(ts2.time[it2], ts2.rolc[it2], 'r')\n",
    "ax[0].set_ylabel(r'$Rm$')\n",
    "ax[1].set_ylabel(r'$Ro_\\mathrm{l}$')\n",
    "plt.xlabel(r'$t \\; (\\tau_\\nu)$')\n",
    "#ax[0].set_yscale('log')\n",
    "ax[0].set_ylim((200,600))\n",
    "#ax[1].set_yscale('log')\n",
    "ax[1].set_ylim((0.008,0.025))\n",
    "#plt.xlim((0.02,1.))\n",
    "plt.tight_layout()\n",
    "plt.show()"
   ]
  },
  {
   "cell_type": "code",
   "execution_count": 23,
   "metadata": {},
   "outputs": [],
   "source": [
    "# Read simulations' data\n",
    "os.chdir(PATH1)\n",
    "ts1 = MagicTs(field='e_mag_oc', all=True, iplot=False)\n",
    "os.chdir(PATH2)\n",
    "ts2 = MagicTs(field='e_mag_oc', all=True, iplot=False)"
   ]
  },
  {
   "cell_type": "code",
   "execution_count": 25,
   "metadata": {},
   "outputs": [],
   "source": [
    "it1 = ts1.time.argsort()\n",
    "it2 = ts2.time.argsort()\n",
    "plt.plot(ts1.time[it1], ts1.emag_tot[it1], 'k')\n",
    "plt.plot(ts2.time[it2], ts2.emag_tot[it2], 'r')\n",
    "plt.ylabel(r'$e_\\mathbf{B}$')\n",
    "plt.xlabel(r'$t \\; (\\tau_\\nu)$')\n",
    "plt.yscale('log')\n",
    "#plt.xlim((0.,0.015))\n",
    "plt.tight_layout()\n",
    "plt.show()"
   ]
  },
  {
   "cell_type": "code",
   "execution_count": 5,
   "metadata": {},
   "outputs": [],
   "source": [
    "# Read simulations' data\n",
    "os.chdir(PATH1)\n",
    "s1 = Surf()\n",
    "os.chdir(PATH2)\n",
    "s2 = Surf()"
   ]
  },
  {
   "cell_type": "code",
   "execution_count": 6,
   "metadata": {},
   "outputs": [
    {
     "name": "stdout",
     "output_type": "stream",
     "text": [
      "(11.715639, 2.8210573)\n"
     ]
    }
   ],
   "source": [
    "print(s1.gr.time, s2.gr.time)\n"
   ]
  },
  {
   "cell_type": "code",
   "execution_count": 7,
   "metadata": {},
   "outputs": [],
   "source": [
    "s1.surf(field='br', r=1., cbar=False, tit=False, vmin=-1.7, vmax=1.7)\n",
    "s2.surf(field='br', r=1., cbar=False, tit=False, vmin=-1.7, vmax=1.7)\n",
    "plt.show(False)"
   ]
  },
  {
   "cell_type": "code",
   "execution_count": 8,
   "metadata": {},
   "outputs": [],
   "source": [
    "plt.close()\n",
    "plt.close()\n",
    "s1.surf(field='vr', r=.7, cbar=False)\n",
    "s2.surf(field='vr', r=.7, cbar=False)\n",
    "plt.show(False)"
   ]
  },
  {
   "cell_type": "code",
   "execution_count": 9,
   "metadata": {},
   "outputs": [],
   "source": [
    "plt.close()\n",
    "plt.close()\n",
    "s1.avg(field='vr')\n",
    "s2.avg(field='vr')\n",
    "plt.show(False)"
   ]
  },
  {
   "cell_type": "code",
   "execution_count": 10,
   "metadata": {},
   "outputs": [],
   "source": [
    "plt.close()\n",
    "plt.close()\n",
    "s1.avg(field='vp')\n",
    "s2.avg(field='vp')\n",
    "plt.show(False)"
   ]
  },
  {
   "cell_type": "code",
   "execution_count": 11,
   "metadata": {},
   "outputs": [],
   "source": [
    "plt.close()\n",
    "plt.close()"
   ]
  },
  {
   "cell_type": "code",
   "execution_count": 14,
   "metadata": {},
   "outputs": [
    {
     "ename": "IOError",
     "evalue": "[Errno 2] No such file or directory: 'AV_mov.TAG'",
     "output_type": "error",
     "traceback": [
      "\u001b[0;31m---------------------------------------------------------------------------\u001b[0m",
      "\u001b[0;31mIOError\u001b[0m                                   Traceback (most recent call last)",
      "\u001b[0;32m<ipython-input-14-1db6bacd8eed>\u001b[0m in \u001b[0;36m<module>\u001b[0;34m()\u001b[0m\n\u001b[0;32m----> 1\u001b[0;31m \u001b[0mM\u001b[0m \u001b[0;34m=\u001b[0m \u001b[0mMovie\u001b[0m\u001b[0;34m(\u001b[0m\u001b[0mfile\u001b[0m \u001b[0;34m=\u001b[0m \u001b[0;34m'AV_mov.TAG'\u001b[0m\u001b[0;34m)\u001b[0m\u001b[0;34m\u001b[0m\u001b[0m\n\u001b[0m",
      "\u001b[0;32m/users/p19031/zaire/magic/python/magic/movie.pyc\u001b[0m in \u001b[0;36m__init__\u001b[0;34m(self, file, iplot, step, png, lastvar, nvar, levels, cm, cut, bgcolor, fluct, normed, avg, std, dpi, normRad, precision, deminc, ifield)\u001b[0m\n\u001b[1;32m    134\u001b[0m \u001b[0;34m\u001b[0m\u001b[0m\n\u001b[1;32m    135\u001b[0m         \u001b[0;31m# Read the movie file\u001b[0m\u001b[0;34m\u001b[0m\u001b[0;34m\u001b[0m\u001b[0m\n\u001b[0;32m--> 136\u001b[0;31m         \u001b[0minfile\u001b[0m \u001b[0;34m=\u001b[0m \u001b[0mnpfile\u001b[0m\u001b[0;34m(\u001b[0m\u001b[0mfilename\u001b[0m\u001b[0;34m,\u001b[0m \u001b[0mendian\u001b[0m\u001b[0;34m=\u001b[0m\u001b[0;34m'B'\u001b[0m\u001b[0;34m)\u001b[0m\u001b[0;34m\u001b[0m\u001b[0m\n\u001b[0m\u001b[1;32m    137\u001b[0m         \u001b[0;31m# Header\u001b[0m\u001b[0;34m\u001b[0m\u001b[0;34m\u001b[0m\u001b[0m\n\u001b[1;32m    138\u001b[0m         \u001b[0mversion\u001b[0m \u001b[0;34m=\u001b[0m \u001b[0minfile\u001b[0m\u001b[0;34m.\u001b[0m\u001b[0mfort_read\u001b[0m\u001b[0;34m(\u001b[0m\u001b[0;34m'|S64'\u001b[0m\u001b[0;34m)\u001b[0m\u001b[0;34m\u001b[0m\u001b[0m\n",
      "\u001b[0;32m/users/p19031/zaire/magic/python/magic/npfile.pyc\u001b[0m in \u001b[0;36m__init__\u001b[0;34m(self, file_name, permission, endian, order)\u001b[0m\n\u001b[1;32m     67\u001b[0m         \u001b[0;32mif\u001b[0m \u001b[0;34m'b'\u001b[0m \u001b[0;32mnot\u001b[0m \u001b[0;32min\u001b[0m \u001b[0mpermission\u001b[0m\u001b[0;34m:\u001b[0m \u001b[0mpermission\u001b[0m \u001b[0;34m+=\u001b[0m \u001b[0;34m'b'\u001b[0m\u001b[0;34m\u001b[0m\u001b[0m\n\u001b[1;32m     68\u001b[0m         \u001b[0;32mif\u001b[0m \u001b[0misinstance\u001b[0m\u001b[0;34m(\u001b[0m\u001b[0mfile_name\u001b[0m\u001b[0;34m,\u001b[0m \u001b[0mstr\u001b[0m\u001b[0;34m)\u001b[0m\u001b[0;34m:\u001b[0m\u001b[0;34m\u001b[0m\u001b[0m\n\u001b[0;32m---> 69\u001b[0;31m             \u001b[0mself\u001b[0m\u001b[0;34m.\u001b[0m\u001b[0mfile\u001b[0m \u001b[0;34m=\u001b[0m \u001b[0mopen\u001b[0m\u001b[0;34m(\u001b[0m\u001b[0mfile_name\u001b[0m\u001b[0;34m,\u001b[0m \u001b[0mpermission\u001b[0m\u001b[0;34m)\u001b[0m\u001b[0;34m\u001b[0m\u001b[0m\n\u001b[0m\u001b[1;32m     70\u001b[0m         \u001b[0;32melse\u001b[0m\u001b[0;34m:\u001b[0m\u001b[0;34m\u001b[0m\u001b[0m\n\u001b[1;32m     71\u001b[0m             \u001b[0;32mtry\u001b[0m\u001b[0;34m:\u001b[0m\u001b[0;34m\u001b[0m\u001b[0m\n",
      "\u001b[0;31mIOError\u001b[0m: [Errno 2] No such file or directory: 'AV_mov.TAG'"
     ]
    }
   ],
   "source": [
    "M = Movie(file = 'AV_mov.TAG')"
   ]
  },
  {
   "cell_type": "code",
   "execution_count": 13,
   "metadata": {},
   "outputs": [
    {
     "name": "stdout",
     "output_type": "stream",
     "text": [
      "2D_kin_spec_1.1   2D_u2_spec_6.1  anel.2                   mag_spec_10.2\r\n",
      "2D_kin_spec_1.2   2D_u2_spec_6.2  anel.3                   mag_spec_10.3\r\n",
      "2D_kin_spec_1.3   2D_u2_spec_6.3  anel.4                   mag_spec_10.4\r\n",
      "2D_kin_spec_1.4   2D_u2_spec_6.4  anel.5                   mag_spec_11.1\r\n",
      "2D_kin_spec_1.5   2D_u2_spec_7.1  checkpoint_end.1         mag_spec_11.2\r\n",
      "2D_kin_spec_10.1  2D_u2_spec_7.2  checkpoint_end.2         mag_spec_11.3\r\n",
      "2D_kin_spec_10.2  2D_u2_spec_7.3  checkpoint_end.3         mag_spec_11.4\r\n",
      "2D_kin_spec_10.3  2D_u2_spec_7.4  checkpoint_end.4         mag_spec_12.1\r\n",
      "2D_kin_spec_10.4  2D_u2_spec_8.1  checkpoint_t=0_135655.1  mag_spec_12.2\r\n",
      "2D_kin_spec_11.1  2D_u2_spec_8.2  checkpoint_t=0_254195.1  mag_spec_12.3\r\n",
      "2D_kin_spec_11.2  2D_u2_spec_8.3  checkpoint_t=0_633239.2  mag_spec_12.4\r\n",
      "2D_kin_spec_11.3  2D_u2_spec_8.4  checkpoint_t=0_833495.2  mag_spec_2.1\r\n",
      "2D_kin_spec_11.4  2D_u2_spec_9.1  checkpoint_t=1_190963.3  mag_spec_2.2\r\n",
      "2D_kin_spec_12.1  2D_u2_spec_9.2  checkpoint_t=1_301424.3  mag_spec_2.3\r\n",
      "2D_kin_spec_12.2  2D_u2_spec_9.3  checkpoint_t=1_409266.3  mag_spec_2.4\r\n",
      "2D_kin_spec_12.3  2D_u2_spec_9.4  checkpoint_t=1_546502.3  mag_spec_2.5\r\n",
      "2D_kin_spec_12.4  AM.1            checkpoint_t=1_828755.4  mag_spec_3.1\r\n",
      "2D_kin_spec_2.1   AM.2            checkpoint_t=1_985325.4  mag_spec_3.2\r\n",
      "2D_kin_spec_2.2   AM.3            checkpoint_t=2_147397.4  mag_spec_3.3\r\n",
      "2D_kin_spec_2.3   AM.4            checkpoint_t=2_579337.5  mag_spec_3.4\r\n",
      "2D_kin_spec_2.4   AM.5            dipole.1                 mag_spec_3.5\r\n",
      "2D_kin_spec_2.5   AV_mov.1        dipole.2                 mag_spec_4.1\r\n",
      "2D_kin_spec_3.1   AV_mov.2        dipole.3                 mag_spec_4.2\r\n",
      "2D_kin_spec_3.2   AV_mov.3        dipole.4                 mag_spec_4.3\r\n",
      "2D_kin_spec_3.3   AV_mov.4        dipole.5                 mag_spec_4.4\r\n",
      "2D_kin_spec_3.4   AV_mov.5        dtBrms.1                 mag_spec_4.5\r\n",
      "2D_kin_spec_3.5   Br_R=C1_mov.1   dtBrms.2                 mag_spec_5.1\r\n",
      "2D_kin_spec_4.1   Br_R=C1_mov.2   dtBrms.3                 mag_spec_5.2\r\n",
      "2D_kin_spec_4.2   Br_R=C1_mov.3   dtBrms.4                 mag_spec_5.3\r\n",
      "2D_kin_spec_4.3   Br_R=C1_mov.4   dtBrms.5                 mag_spec_5.4\r\n",
      "2D_kin_spec_4.4   Br_R=C1_mov.5   dtE.1                    mag_spec_5.5\r\n",
      "2D_kin_spec_4.5   G_1.1           dtE.2                    mag_spec_6.1\r\n",
      "2D_kin_spec_5.1   G_1.2           dtE.3                    mag_spec_6.2\r\n",
      "2D_kin_spec_5.2   G_1.3           dtE.4                    mag_spec_6.3\r\n",
      "2D_kin_spec_5.3   G_1.4           dtE.5                    mag_spec_6.4\r\n",
      "2D_kin_spec_5.4   G_1.5           dtVrms.1                 mag_spec_7.1\r\n",
      "2D_kin_spec_5.5   G_10.1          dtVrms.2                 mag_spec_7.2\r\n",
      "2D_kin_spec_6.1   G_10.2          dtVrms.3                 mag_spec_7.3\r\n",
      "2D_kin_spec_6.2   G_10.3          dtVrms.4                 mag_spec_7.4\r\n",
      "2D_kin_spec_6.3   G_10.4          dtVrms.5                 mag_spec_8.1\r\n",
      "2D_kin_spec_6.4   G_11.1          dtVrms_spec.1            mag_spec_8.2\r\n",
      "2D_kin_spec_7.1   G_11.2          dtVrms_spec.2            mag_spec_8.3\r\n",
      "2D_kin_spec_7.2   G_11.3          dtVrms_spec.3            mag_spec_8.4\r\n",
      "2D_kin_spec_7.3   G_11.4          dtVrms_spec.4            mag_spec_9.1\r\n",
      "2D_kin_spec_7.4   G_12.1          dtVrms_spec.5            mag_spec_9.2\r\n",
      "2D_kin_spec_8.1   G_12.2          eKinR.1                  mag_spec_9.3\r\n",
      "2D_kin_spec_8.2   G_12.3          eKinR.2                  mag_spec_9.4\r\n",
      "2D_kin_spec_8.3   G_12.4          eKinR.3                  \u001b[0m\u001b[38;5;34mmagic.exe\u001b[0m*\r\n",
      "2D_kin_spec_8.4   G_2.1           eKinR.4                  mem_alloc.1\r\n",
      "2D_kin_spec_9.1   G_2.2           eMagR.1                  mem_alloc.2\r\n",
      "2D_kin_spec_9.2   G_2.3           eMagR.2                  mem_alloc.3\r\n",
      "2D_kin_spec_9.3   G_2.4           eMagR.3                  mem_alloc.4\r\n",
      "2D_kin_spec_9.4   G_2.5           eMagR.4                  mem_alloc.5\r\n",
      "2D_mag_spec_1.1   G_3.1           e_kin.1                  par.1\r\n",
      "2D_mag_spec_1.2   G_3.2           e_kin.2                  par.2\r\n",
      "2D_mag_spec_1.3   G_3.3           e_kin.3                  par.3\r\n",
      "2D_mag_spec_1.4   G_3.4           e_kin.4                  par.4\r\n",
      "2D_mag_spec_1.5   G_3.5           e_kin.5                  par.5\r\n",
      "2D_mag_spec_10.1  G_4.1           e_mag_ic.1               parR.1\r\n",
      "2D_mag_spec_10.2  G_4.2           e_mag_ic.2               parR.2\r\n",
      "2D_mag_spec_10.3  G_4.3           e_mag_ic.3               parR.3\r\n",
      "2D_mag_spec_10.4  G_4.4           e_mag_ic.4               parR.4\r\n",
      "2D_mag_spec_11.1  G_4.5           e_mag_ic.5               power.1\r\n",
      "2D_mag_spec_11.2  G_5.1           e_mag_oc.1               power.2\r\n",
      "2D_mag_spec_11.3  G_5.2           e_mag_oc.2               power.3\r\n",
      "2D_mag_spec_11.4  G_5.3           e_mag_oc.3               power.4\r\n",
      "2D_mag_spec_12.1  G_5.4           e_mag_oc.4               power.5\r\n",
      "2D_mag_spec_12.2  G_5.5           e_mag_oc.5               powerR.1\r\n",
      "2D_mag_spec_12.3  G_6.1           \u001b[38;5;13mekin-spec-m.jpeg\u001b[0m         powerR.2\r\n",
      "2D_mag_spec_12.4  G_6.2           heat.1                   powerR.3\r\n",
      "2D_mag_spec_2.1   G_6.3           heat.2                   powerR.4\r\n",
      "2D_mag_spec_2.2   G_6.4           heat.3                   pscond.dat\r\n",
      "2D_mag_spec_2.3   G_7.1           heat.4                   radius.1\r\n",
      "2D_mag_spec_2.4   G_7.2           heat.5                   radius.2\r\n",
      "2D_mag_spec_2.5   G_7.3           heatR.1                  radius.3\r\n",
      "2D_mag_spec_3.1   G_7.4           heatR.2                  radius.4\r\n",
      "2D_mag_spec_3.2   G_8.1           heatR.3                  radius.5\r\n",
      "2D_mag_spec_3.3   G_8.2           heatR.4                  signal.1\r\n",
      "2D_mag_spec_3.4   G_8.3           input.nml                signal.2\r\n",
      "2D_mag_spec_3.5   G_8.4           kin_spec_1.1             signal.3\r\n",
      "2D_mag_spec_4.1   G_9.1           kin_spec_1.2             signal.4\r\n",
      "2D_mag_spec_4.2   G_9.2           kin_spec_1.3             signal.5\r\n",
      "2D_mag_spec_4.3   G_9.3           kin_spec_1.4             u2_spec_1.1\r\n",
      "2D_mag_spec_4.4   G_9.4           kin_spec_1.5             u2_spec_1.2\r\n",
      "2D_mag_spec_4.5   T_spec_1.1      kin_spec_10.1            u2_spec_1.3\r\n",
      "2D_mag_spec_5.1   T_spec_1.2      kin_spec_10.2            u2_spec_1.4\r\n",
      "2D_mag_spec_5.2   T_spec_1.3      kin_spec_10.3            u2_spec_1.5\r\n",
      "2D_mag_spec_5.3   T_spec_1.4      kin_spec_10.4            u2_spec_10.1\r\n",
      "2D_mag_spec_5.4   T_spec_1.5      kin_spec_11.1            u2_spec_10.2\r\n",
      "2D_mag_spec_5.5   T_spec_10.1     kin_spec_11.2            u2_spec_10.3\r\n",
      "2D_mag_spec_6.1   T_spec_10.2     kin_spec_11.3            u2_spec_10.4\r\n",
      "2D_mag_spec_6.2   T_spec_10.3     kin_spec_11.4            u2_spec_11.1\r\n",
      "2D_mag_spec_6.3   T_spec_10.4     kin_spec_12.1            u2_spec_11.2\r\n",
      "2D_mag_spec_6.4   T_spec_11.1     kin_spec_12.2            u2_spec_11.3\r\n",
      "2D_mag_spec_7.1   T_spec_11.2     kin_spec_12.3            u2_spec_11.4\r\n",
      "2D_mag_spec_7.2   T_spec_11.3     kin_spec_12.4            u2_spec_12.1\r\n",
      "2D_mag_spec_7.3   T_spec_11.4     kin_spec_2.1             u2_spec_12.2\r\n",
      "2D_mag_spec_7.4   T_spec_12.1     kin_spec_2.2             u2_spec_12.3\r\n",
      "2D_mag_spec_8.1   T_spec_12.2     kin_spec_2.3             u2_spec_12.4\r\n",
      "2D_mag_spec_8.2   T_spec_12.3     kin_spec_2.4             u2_spec_2.1\r\n",
      "2D_mag_spec_8.3   T_spec_12.4     kin_spec_2.5             u2_spec_2.2\r\n",
      "2D_mag_spec_8.4   T_spec_2.1      kin_spec_3.1             u2_spec_2.3\r\n",
      "2D_mag_spec_9.1   T_spec_2.2      kin_spec_3.2             u2_spec_2.4\r\n",
      "2D_mag_spec_9.2   T_spec_2.3      kin_spec_3.3             u2_spec_2.5\r\n",
      "2D_mag_spec_9.3   T_spec_2.4      kin_spec_3.4             u2_spec_3.1\r\n",
      "2D_mag_spec_9.4   T_spec_2.5      kin_spec_3.5             u2_spec_3.2\r\n",
      "2D_u2_spec_1.1    T_spec_3.1      kin_spec_4.1             u2_spec_3.3\r\n",
      "2D_u2_spec_1.2    T_spec_3.2      kin_spec_4.2             u2_spec_3.4\r\n",
      "2D_u2_spec_1.3    T_spec_3.3      kin_spec_4.3             u2_spec_3.5\r\n",
      "2D_u2_spec_1.4    T_spec_3.4      kin_spec_4.4             u2_spec_4.1\r\n",
      "2D_u2_spec_1.5    T_spec_3.5      kin_spec_4.5             u2_spec_4.2\r\n",
      "2D_u2_spec_10.1   T_spec_4.1      kin_spec_5.1             u2_spec_4.3\r\n",
      "2D_u2_spec_10.2   T_spec_4.2      kin_spec_5.2             u2_spec_4.4\r\n",
      "2D_u2_spec_10.3   T_spec_4.3      kin_spec_5.3             u2_spec_4.5\r\n",
      "2D_u2_spec_10.4   T_spec_4.4      kin_spec_5.4             u2_spec_5.1\r\n",
      "2D_u2_spec_11.1   T_spec_4.5      kin_spec_5.5             u2_spec_5.2\r\n",
      "2D_u2_spec_11.2   T_spec_5.1      kin_spec_6.1             u2_spec_5.3\r\n",
      "2D_u2_spec_11.3   T_spec_5.2      kin_spec_6.2             u2_spec_5.4\r\n",
      "2D_u2_spec_11.4   T_spec_5.3      kin_spec_6.3             u2_spec_5.5\r\n",
      "2D_u2_spec_12.1   T_spec_5.4      kin_spec_6.4             u2_spec_6.1\r\n",
      "2D_u2_spec_12.2   T_spec_5.5      kin_spec_7.1             u2_spec_6.2\r\n",
      "2D_u2_spec_12.3   T_spec_6.1      kin_spec_7.2             u2_spec_6.3\r\n",
      "2D_u2_spec_12.4   T_spec_6.2      kin_spec_7.3             u2_spec_6.4\r\n",
      "2D_u2_spec_2.1    T_spec_6.3      kin_spec_7.4             u2_spec_7.1\r\n",
      "2D_u2_spec_2.2    T_spec_6.4      kin_spec_8.1             u2_spec_7.2\r\n",
      "2D_u2_spec_2.3    T_spec_7.1      kin_spec_8.2             u2_spec_7.3\r\n",
      "2D_u2_spec_2.4    T_spec_7.2      kin_spec_8.3             u2_spec_7.4\r\n",
      "2D_u2_spec_2.5    T_spec_7.3      kin_spec_8.4             u2_spec_8.1\r\n",
      "2D_u2_spec_3.1    T_spec_7.4      kin_spec_9.1             u2_spec_8.2\r\n",
      "2D_u2_spec_3.2    T_spec_8.1      kin_spec_9.2             u2_spec_8.3\r\n",
      "2D_u2_spec_3.3    T_spec_8.2      kin_spec_9.3             u2_spec_8.4\r\n",
      "2D_u2_spec_3.4    T_spec_8.3      kin_spec_9.4             u2_spec_9.1\r\n",
      "2D_u2_spec_3.5    T_spec_8.4      log.1                    u2_spec_9.2\r\n",
      "2D_u2_spec_4.1    T_spec_9.1      log.2                    u2_spec_9.3\r\n",
      "2D_u2_spec_4.2    T_spec_9.2      log.3                    u2_spec_9.4\r\n",
      "2D_u2_spec_4.3    T_spec_9.3      log.4                    u_square.1\r\n",
      "2D_u2_spec_4.4    T_spec_9.4      log.5                    u_square.2\r\n",
      "2D_u2_spec_4.5    Vr_mov.1        mag_spec_1.1             u_square.3\r\n",
      "2D_u2_spec_5.1    Vr_mov.2        mag_spec_1.2             u_square.4\r\n",
      "2D_u2_spec_5.2    Vr_mov.3        mag_spec_1.3             u_square.5\r\n",
      "2D_u2_spec_5.3    Vr_mov.4        mag_spec_1.4\r\n",
      "2D_u2_spec_5.4    Vr_mov.5        mag_spec_1.5\r\n",
      "2D_u2_spec_5.5    anel.1          mag_spec_10.1\r\n"
     ]
    }
   ],
   "source": [
    "ls"
   ]
  },
  {
   "cell_type": "code",
   "execution_count": null,
   "metadata": {},
   "outputs": [],
   "source": []
  }
 ],
 "metadata": {
  "kernelspec": {
   "display_name": "Python 2",
   "language": "python",
   "name": "python2"
  },
  "language_info": {
   "codemirror_mode": {
    "name": "ipython",
    "version": 2
   },
   "file_extension": ".py",
   "mimetype": "text/x-python",
   "name": "python",
   "nbconvert_exporter": "python",
   "pygments_lexer": "ipython2",
   "version": "2.7.14"
  }
 },
 "nbformat": 4,
 "nbformat_minor": 2
}
