{
 "cells": [
  {
   "cell_type": "markdown",
   "metadata": {},
   "source": [
    "# Partially convective simulation at $2.5 Ra_c$\n",
    "\n",
    "Here we compare two simulations with different boundary conditions and  initializaitons"
   ]
  },
  {
   "cell_type": "code",
   "execution_count": 1,
   "metadata": {},
   "outputs": [],
   "source": [
    "# Define paths of simulations to be compared\n",
    "\n",
    "WORK_DIR = \"/tmpdir/zaire/mhd/\"\n",
    "PATH1 = WORK_DIR + \"Nr15Ek5Ra7dS200Pm5\"               # Simulation with boundary condition S\n",
    "PATH2 = WORK_DIR + \"Nr15Ek5Ra7dS200Pm5_bdsdr_init0\"   # Simulation with boundary condition ds/dr and starting from 0."
   ]
  },
  {
   "cell_type": "code",
   "execution_count": 11,
   "metadata": {},
   "outputs": [],
   "source": [
    "# Read simulations' data\n",
    "os.chdir(PATH1)\n",
    "ts1 = MagicTs(field='par', all=True, iplot=False)\n",
    "os.chdir(PATH2)\n",
    "ts2 = MagicTs(field='par', all=True, iplot=False)\n",
    "ts1.time -= 7.8"
   ]
  },
  {
   "cell_type": "code",
   "execution_count": 12,
   "metadata": {},
   "outputs": [],
   "source": [
    "it1 = ts1.time.argsort()\n",
    "it2 = ts2.time.argsort()\n",
    "plt.plot(ts1.time[it1], ts1.dip_cmb[it1], 'k')\n",
    "plt.plot(ts2.time[it2], ts2.dip_cmb[it2], 'r')\n",
    "plt.ylabel(r'$f_\\mathrm{dip}$')\n",
    "plt.xlabel(r'$t \\; (\\tau_\\nu)$')\n",
    "plt.ylim((0.,1.01))\n",
    "#plt.xlim((0.02,1.))\n",
    "plt.tight_layout()\n",
    "plt.show()\n"
   ]
  },
  {
   "cell_type": "code",
   "execution_count": 22,
   "metadata": {},
   "outputs": [],
   "source": [
    "fig, ax = plt.subplots(2, sharex=True)\n",
    "it1 = ts1.time.argsort()\n",
    "it2 = ts2.time.argsort()\n",
    "ax[0].plot(ts1.time[it1], ts1.rm[it1], 'k')\n",
    "ax[0].plot(ts2.time[it2], ts2.rm[it2], 'r')\n",
    "ax[1].plot(ts1.time[it1], ts1.rolc[it1], 'k')\n",
    "ax[1].plot(ts2.time[it2], ts2.rolc[it2], 'r')\n",
    "ax[0].set_ylabel(r'$Rm$')\n",
    "ax[1].set_ylabel(r'$Ro_\\mathrm{l}$')\n",
    "plt.xlabel(r'$t \\; (\\tau_\\nu)$')\n",
    "#ax[0].set_yscale('log')\n",
    "ax[0].set_ylim((200,600))\n",
    "#ax[1].set_yscale('log')\n",
    "ax[1].set_ylim((0.008,0.025))\n",
    "#plt.xlim((0.02,1.))\n",
    "plt.tight_layout()\n",
    "plt.show()"
   ]
  },
  {
   "cell_type": "code",
   "execution_count": 23,
   "metadata": {},
   "outputs": [],
   "source": [
    "# Read simulations' data\n",
    "os.chdir(PATH1)\n",
    "ts1 = MagicTs(field='e_mag_oc', all=True, iplot=False)\n",
    "os.chdir(PATH2)\n",
    "ts2 = MagicTs(field='e_mag_oc', all=True, iplot=False)"
   ]
  },
  {
   "cell_type": "code",
   "execution_count": 25,
   "metadata": {},
   "outputs": [],
   "source": [
    "it1 = ts1.time.argsort()\n",
    "it2 = ts2.time.argsort()\n",
    "plt.plot(ts1.time[it1], ts1.emag_tot[it1], 'k')\n",
    "plt.plot(ts2.time[it2], ts2.emag_tot[it2], 'r')\n",
    "plt.ylabel(r'$e_\\mathbf{B}$')\n",
    "plt.xlabel(r'$t \\; (\\tau_\\nu)$')\n",
    "plt.yscale('log')\n",
    "#plt.xlim((0.,0.015))\n",
    "plt.tight_layout()\n",
    "plt.show()"
   ]
  },
  {
   "cell_type": "code",
   "execution_count": 27,
   "metadata": {},
   "outputs": [],
   "source": [
    "# Read simulations' data\n",
    "os.chdir(PATH1)\n",
    "s1 = Surf()\n",
    "os.chdir(PATH2)\n",
    "s2 = Surf()"
   ]
  },
  {
   "cell_type": "code",
   "execution_count": 28,
   "metadata": {},
   "outputs": [
    {
     "name": "stdout",
     "output_type": "stream",
     "text": [
      "(11.715639, 0.67892057)\n"
     ]
    }
   ],
   "source": [
    "print(s1.gr.time, s2.gr.time)\n"
   ]
  }
 ],
 "metadata": {
  "kernelspec": {
   "display_name": "Python 2",
   "language": "python",
   "name": "python2"
  },
  "language_info": {
   "codemirror_mode": {
    "name": "ipython",
    "version": 2
   },
   "file_extension": ".py",
   "mimetype": "text/x-python",
   "name": "python",
   "nbconvert_exporter": "python",
   "pygments_lexer": "ipython2",
   "version": "2.7.14"
  }
 },
 "nbformat": 4,
 "nbformat_minor": 2
}
