{
 "cells": [
  {
   "cell_type": "code",
   "execution_count": 83,
   "metadata": {},
   "outputs": [],
   "source": [
    "import os \n",
    "from magic import *\n",
    "#PATH1 = '/tmpdir/zaire/mhd/Nr15Ek5Ra7dS328Pm2_kbots1'\n",
    "PATH1 = '/tmpdir/zaire/mhd/Nr15Ek5Ra7dS328Pm5'\n",
    "PATH2 = '/tmpdir/zaire/mhd/Nr15Ek5Ra7dS328Pm2'\n",
    "#PATH1 = '/gpfs/work/p19031/zaire/mhd/Nr15Ek5Ra7dS200Pm5-FCd'\n",
    "#PATH2 = '/gpfs/work/p19031/zaire/mhd/Nr15Ek5Ra7dS200Pm5-FCd_bS'"
   ]
  },
  {
   "cell_type": "code",
   "execution_count": 84,
   "metadata": {},
   "outputs": [],
   "source": [
    "os.chdir(PATH1)\n",
    "ts1 = MagicTs(field='dipole', all=True, iplot=False)\n",
    "os.chdir(PATH2)\n",
    "ts2 = MagicTs(field='dipole', all=True, iplot=False)\n",
    "d=1"
   ]
  },
  {
   "cell_type": "code",
   "execution_count": 85,
   "metadata": {},
   "outputs": [],
   "source": [
    "it1 = ts1.time.argsort()\n",
    "it2 = ts2.time.argsort()\n",
    "plt.plot(ts1.time[it1]*d**2, ts1.dip_cmb[it1], 'k')\n",
    "plt.plot(ts2.time[it2]*d**2, ts2.dip_cmb[it2], 'r')\n",
    "plt.ylabel(r'$f_\\mathrm{dip}$')\n",
    "plt.xlabel(r'$t \\; (\\tau_\\nu)$')\n",
    "plt.ylim((0.,1.1))\n",
    "plt.tight_layout()\n",
    "plt.show()"
   ]
  },
  {
   "cell_type": "code",
   "execution_count": 44,
   "metadata": {},
   "outputs": [],
   "source": [
    "plt.plot(rad1.radius, rad1.urol, '--k', label='BC = s')\n",
    "plt.plot(rad2.radius, rad2.urol, '--r', label='BC = ds/dr')\n",
    "plt.ylabel(r'$Ro_\\mathrm{l}$')\n",
    "plt.xlabel(r'$r \\; (r_\\mathrm{o})$')\n",
    "plt.legend()\n",
    "plt.tight_layout()\n",
    "plt.show()\n"
   ]
  },
  {
   "cell_type": "code",
   "execution_count": null,
   "metadata": {},
   "outputs": [],
   "source": []
  }
 ],
 "metadata": {
  "kernelspec": {
   "display_name": "Python 2",
   "language": "python",
   "name": "python2"
  },
  "language_info": {
   "codemirror_mode": {
    "name": "ipython",
    "version": 2
   },
   "file_extension": ".py",
   "mimetype": "text/x-python",
   "name": "python",
   "nbconvert_exporter": "python",
   "pygments_lexer": "ipython2",
   "version": "2.7.14"
  }
 },
 "nbformat": 4,
 "nbformat_minor": 2
}
