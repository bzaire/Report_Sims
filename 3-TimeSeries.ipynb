{
 "cells": [
  {
   "cell_type": "markdown",
   "metadata": {},
   "source": [
    "# Time series\n",
    "\n",
    "We present diverse time series of the simulations and, in addition, their magnetic spectra.\n",
    "\n",
    "\n",
    "## Kinetic Energy\n",
    "\n",
    "<img src=\"figs/tsNr3.png\" />\n",
    "<img src=\"figs/tsNr15.png\" />\n",
    "<img src=\"figs/tsNr1.png\" />\n",
    "\n",
    "## Magnetic Energy normalized by the total energy\n",
    "\n",
    "<img src=\"figs/emagNr3.png\" />\n",
    "<img src=\"figs/emagNr15.png\" />\n",
    "<img src=\"figs/emagNr1.png\" />\n",
    "\n",
    "## Parameters\n",
    "\n",
    "<img src=\"figs/parNr3.png\" />\n",
    "<img src=\"figs/parNr15.png\" />\n",
    "<img src=\"figs/parNr1.png\" />\n",
    "\n",
    "## Dipolarity\n",
    "\n",
    "<img src=\"figs/dipNr3.png\" />\n",
    "<img src=\"figs/dipNr15.png\" />\n",
    "<img src=\"figs/dipNr1.png\" />\n",
    "\n",
    "## Spectra\n",
    "\n",
    "<img src=\"figs/specNr3.png\" />\n",
    "<img src=\"figs/specNr15.png\" />\n",
    "<img src=\"figs/specNr1.png\" />"
   ]
  },
  {
   "cell_type": "code",
   "execution_count": null,
   "metadata": {},
   "outputs": [],
   "source": []
  }
 ],
 "metadata": {
  "kernelspec": {
   "display_name": "Python 3",
   "language": "python",
   "name": "python3"
  },
  "language_info": {
   "codemirror_mode": {
    "name": "ipython",
    "version": 3
   },
   "file_extension": ".py",
   "mimetype": "text/x-python",
   "name": "python",
   "nbconvert_exporter": "python",
   "pygments_lexer": "ipython3",
   "version": "3.7.2"
  }
 },
 "nbformat": 4,
 "nbformat_minor": 2
}
