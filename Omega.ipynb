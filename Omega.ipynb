{
 "cells": [
  {
   "cell_type": "markdown",
   "metadata": {},
   "source": [
    "# Differential rotation \n",
    "\n",
    "Differential rotation in the reference frame each row shows simulations with a constant density contrast. From top to bottom, they correspond to $N_\\rho = 1.0, 1.5,$ and 3.0. Figures corresponding to dipolar cases are marked by an yellow border.\n",
    "\n",
    "\n",
    "-----\n",
    "\n",
    "0| 1 | 2 | 3 | 4 | 5 | 6 | 7 | 8 | 9| 10 \n",
    ":------------------:|:------------------:|:---------------:|:------------------:|:---------------:|:------------------:|:---------------:|:------------------:|:---------------:|:---------------:|:------------------:\n",
    " ![]() | <img style=\"border:5px groove gold;\" src=\"figs/Omega_1.0_02.png\"/> |<img style=\"border:5px groove gold;\" src=\"figs/Omega_1.0_03.png\"/> | <img style=\"border:5px groove gold;\" src=\"figs/Omega_1.0_04.png\"/>  | <img style=\"border:5px groove gold;\" src=\"figs/Omega_1.0_05.png\"/> | <img style=\"border:5px groove gold;\" src=\"figs/Omega_1.0_06.png\"/>  |  ![](figs/Omega_1.0_08.png) |![](figs/Omega_1.0_16.png)  | ![]() | ![]() | ![](figs/Omega_1.0_32.png) \n",
    "<img style=\"border:5px groove gold;\" src=\"figs/Omega_1.5_01.png\"/>|<img style=\"border:5px groove gold;\" src=\"figs/Omega_1.5_02.png\"/> | ![](figs/Omega_1.5_03.png)  |  ![](figs/Omega_1.5_04.png) |   ![]() | ![](figs/Omega_1.5_06.png)  |  ![]() |  ![](figs/Omega_1.5_13.png) |![]() | ![](figs/Omega_1.5_26.png)  \n",
    " ![](figs/Omega_3.0_01.png)|<img style=\"border:5px groove gold;\" src=\"figs/Omega_3.0_02.png\"/> |![]() | <img style=\"border:5px groove gold;\" src=\"figs/Omega_3.0_04.png\"/> | <img style=\"border:5px groove gold;\" src=\"figs/Omega_3.0_05.png\"/> | ![]() | <img style=\"border:5px groove gold;\" src=\"figs/Omega_3.0_08.png\"/> |  <img style=\"border:5px groove gold;\" src=\"figs/Omega_3.0_17.png\"/> | <img style=\"border:5px groove gold;\" src=\"figs/Omega_3.0_20.png\"/> |  ![](figs/Omega_3.0_25.png)  \n"
   ]
  },
  {
   "cell_type": "code",
   "execution_count": null,
   "metadata": {},
   "outputs": [],
   "source": []
  }
 ],
 "metadata": {
  "kernelspec": {
   "display_name": "Python 3",
   "language": "python",
   "name": "python3"
  },
  "language_info": {
   "codemirror_mode": {
    "name": "ipython",
    "version": 3
   },
   "file_extension": ".py",
   "mimetype": "text/x-python",
   "name": "python",
   "nbconvert_exporter": "python",
   "pygments_lexer": "ipython3",
   "version": "3.7.2"
  },
  "latex_envs": {
   "LaTeX_envs_menu_present": true,
   "autoclose": false,
   "autocomplete": true,
   "bibliofile": "biblio.bib",
   "cite_by": "apalike",
   "current_citInitial": 1,
   "eqLabelWithNumbers": true,
   "eqNumInitial": 1,
   "hotkeys": {
    "equation": "Ctrl-E",
    "itemize": "Ctrl-I"
   },
   "labels_anchors": false,
   "latex_user_defs": false,
   "report_style_numbering": false,
   "user_envs_cfg": false
  }
 },
 "nbformat": 4,
 "nbformat_minor": 2
}
