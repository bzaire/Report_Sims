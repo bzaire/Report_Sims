{
 "cells": [
  {
   "cell_type": "markdown",
   "metadata": {},
   "source": [
    "# Test of resolution\n",
    "\n",
    "Here we compare two simulations with different $N_\\phi$ points to test the robustness of our solutions. "
   ]
  },
  {
   "cell_type": "code",
   "execution_count": 1,
   "metadata": {},
   "outputs": [],
   "source": [
    "# Define paths of simulations to be compared\n",
    "WORK_DIR = \"/gpfs/work/p19031/zaire/mhd/\"\n",
    "TMPDIR = \"/tmpdir/zaire/mhd/\"\n",
    "PATH1 = WORK_DIR + \"Nr15Ek5Ra7dS200Pm5-FC_bs_init0\"      # Simulation with Nphi = 360\n",
    "PATH2 = WORK_DIR + \"Nr15Ek5Ra7dS200Pm5-FC_bs_init0_Nphi\" # Simulation with Nphi = 384\n",
    "PATH3 = TMPDIR  + \"Nr15Ek5Ra7dS200Pm5-FC_bs_init0_Nphi512\" # Simulation with Nphi = 512"
   ]
  },
  {
   "cell_type": "code",
   "execution_count": 2,
   "metadata": {},
   "outputs": [],
   "source": [
    "# Read simulations' data\n",
    "os.chdir(PATH1)\n",
    "ts1 = MagicTs(field='par', all=True, iplot=False)\n",
    "os.chdir(PATH2)\n",
    "ts2 = MagicTs(field='par', all=True, iplot=False)\n",
    "os.chdir(PATH3)\n",
    "ts3 = MagicTs(field='par', all=True, iplot=False)"
   ]
  },
  {
   "cell_type": "code",
   "execution_count": 3,
   "metadata": {},
   "outputs": [],
   "source": [
    "it1 = ts1.time.argsort()\n",
    "it2 = ts2.time.argsort()\n",
    "it3 = ts3.time.argsort()\n",
    "plt.plot(ts1.time[it1], ts1.dip_cmb[it1], 'k', label='Nphi = 360')\n",
    "plt.plot(ts2.time[it2], ts2.dip_cmb[it2], 'r', label='Nphi = 384')\n",
    "plt.plot(ts3.time[it3], ts3.dip_cmb[it3], 'b', label='Nphi = 512')\n",
    "plt.ylabel(r'$f_\\mathrm{dip}$')\n",
    "plt.xlabel(r'$t \\; (\\tau_\\nu)$')\n",
    "plt.ylim((0.,1.01))\n",
    "plt.xlim((0.,0.035))\n",
    "plt.legend()\n",
    "plt.tight_layout()\n",
    "plt.show()\n"
   ]
  },
  {
   "cell_type": "code",
   "execution_count": 4,
   "metadata": {},
   "outputs": [
    {
     "name": "stderr",
     "output_type": "stream",
     "text": [
      "No handlers could be found for logger \"matplotlib.legend\"\n"
     ]
    }
   ],
   "source": [
    "fig, ax = plt.subplots(2, sharex=True)\n",
    "it1 = ts1.time.argsort()\n",
    "it2 = ts2.time.argsort()\n",
    "it3 = ts3.time.argsort()\n",
    "ax[0].plot(ts1.time[it1], ts1.rm[it1], 'k', label='Nphi = 360')\n",
    "ax[0].plot(ts2.time[it2], ts2.rm[it2], 'r', label='Nphi = 382')\n",
    "ax[0].plot(ts3.time[it3], ts3.rm[it3], 'b', label='Nphi = 512')\n",
    "ax[1].plot(ts1.time[it1], ts1.rolc[it1], 'k')\n",
    "ax[1].plot(ts2.time[it2], ts2.rolc[it2], 'r')\n",
    "ax[1].plot(ts3.time[it3], ts3.rolc[it3], 'b')\n",
    "ax[0].set_ylabel(r'$Rm$')\n",
    "ax[1].set_ylabel(r'$Ro_\\mathrm{l}$')\n",
    "plt.xlabel(r'$t \\; (\\tau_\\nu)$')\n",
    "#ax[0].set_yscale('log')\n",
    "ax[0].set_ylim((600,1200))\n",
    "#ax[1].set_yscale('log')\n",
    "ax[1].set_ylim((0.025,0.04))\n",
    "plt.xlim((0.,0.035))\n",
    "plt.legend()\n",
    "plt.tight_layout()\n",
    "plt.show()"
   ]
  },
  {
   "cell_type": "code",
   "execution_count": 5,
   "metadata": {},
   "outputs": [],
   "source": [
    "# Read simulations' data\n",
    "os.chdir(PATH1)\n",
    "ts1 = MagicTs(field='e_mag_oc', all=True, iplot=False)\n",
    "os.chdir(PATH2)\n",
    "ts2 = MagicTs(field='e_mag_oc', all=True, iplot=False)\n",
    "os.chdir(PATH3)\n",
    "ts3 = MagicTs(field='e_mag_oc', all=True, iplot=False)"
   ]
  },
  {
   "cell_type": "code",
   "execution_count": 6,
   "metadata": {},
   "outputs": [],
   "source": [
    "it1 = ts1.time.argsort()\n",
    "it2 = ts2.time.argsort()\n",
    "it3 = ts3.time.argsort()\n",
    "plt.plot(ts1.time[it1], ts1.emag_tot[it1], 'k')\n",
    "plt.plot(ts2.time[it2], ts2.emag_tot[it2], 'r')\n",
    "plt.plot(ts3.time[it3], ts3.emag_tot[it3], 'b')\n",
    "plt.ylabel(r'$e_\\mathbf{B}$')\n",
    "plt.xlabel(r'$t \\; (\\tau_\\nu)$')\n",
    "plt.yscale('log')\n",
    "plt.xlim((0.,0.015))\n",
    "plt.tight_layout()\n",
    "plt.show()"
   ]
  },
  {
   "cell_type": "code",
   "execution_count": 60,
   "metadata": {},
   "outputs": [],
   "source": [
    "# Read simulations' data\n",
    "os.chdir(PATH1)\n",
    "s1 = Surf(tag=1, ivar=2)\n",
    "os.chdir(PATH3)\n",
    "s2 = Surf()"
   ]
  },
  {
   "cell_type": "code",
   "execution_count": 61,
   "metadata": {},
   "outputs": [
    {
     "name": "stdout",
     "output_type": "stream",
     "text": [
      "(0.0333336, 0.031763133)\n"
     ]
    }
   ],
   "source": [
    "print(s1.gr.time, s2.gr.time)\n"
   ]
  },
  {
   "cell_type": "code",
   "execution_count": 50,
   "metadata": {},
   "outputs": [],
   "source": [
    "s1.surf(field='br', r=1., cbar=False, tit=False, vmin=-1.7, vmax=1.7)\n",
    "s2.surf(field='br', r=1., cbar=False, tit=False, vmin=-1.7, vmax=1.7)\n",
    "plt.show(False)"
   ]
  },
  {
   "cell_type": "code",
   "execution_count": 52,
   "metadata": {},
   "outputs": [],
   "source": [
    "plt.close()\n",
    "plt.close()\n",
    "s1.surf(field='vr', r=.7, cbar=False)\n",
    "s2.surf(field='vr', r=.7, cbar=False)\n",
    "plt.show(False)"
   ]
  },
  {
   "cell_type": "code",
   "execution_count": 54,
   "metadata": {},
   "outputs": [],
   "source": [
    "plt.close()\n",
    "plt.close()\n",
    "s1.avg(field='vr')\n",
    "s2.avg(field='vr')\n",
    "plt.show(False)"
   ]
  },
  {
   "cell_type": "code",
   "execution_count": 64,
   "metadata": {},
   "outputs": [],
   "source": [
    "plt.close()\n",
    "plt.close()\n",
    "s1.avg(field='vp')\n",
    "s2.avg(field='vp')\n",
    "plt.show(False)"
   ]
  },
  {
   "cell_type": "code",
   "execution_count": 55,
   "metadata": {},
   "outputs": [
    {
     "name": "stdout",
     "output_type": "stream",
     "text": [
      "-1.0\n",
      "-1.0\n"
     ]
    }
   ],
   "source": [
    "plt.close()\n",
    "plt.close()\n",
    "s1.equat(field='vr')\n",
    "s2.equat(field='vr')\n",
    "plt.show(False)"
   ]
  },
  {
   "cell_type": "code",
   "execution_count": 56,
   "metadata": {},
   "outputs": [],
   "source": [
    "plt.close()\n",
    "plt.close()"
   ]
  },
  {
   "cell_type": "code",
   "execution_count": 57,
   "metadata": {},
   "outputs": [],
   "source": [
    "# Read simulations' data\n",
    "os.chdir(PATH1)\n",
    "rad1 = MagicRadial(field='parR', iplot=False)\n",
    "os.chdir(PATH2)\n",
    "rad2 = MagicRadial(field='parR', iplot=False)\n",
    "os.chdir(PATH3)\n",
    "rad3 = MagicRadial(field='parR', iplot=False)"
   ]
  },
  {
   "cell_type": "code",
   "execution_count": 58,
   "metadata": {},
   "outputs": [],
   "source": [
    "plt.plot(rad1.radius, rad1.rol, 'k', label='Nphi = 360')\n",
    "plt.plot(rad2.radius, rad2.rol, 'r', label='Nphi = 384')\n",
    "plt.plot(rad3.radius, rad3.rol, 'b', label='Nphi = 512')\n",
    "plt.ylabel(r'$Ro_\\mathrm{l}$')\n",
    "plt.xlabel(r'$r \\; (r_\\mathrm{o})$')\n",
    "plt.legend()\n",
    "plt.tight_layout()\n",
    "plt.show()"
   ]
  },
  {
   "cell_type": "code",
   "execution_count": null,
   "metadata": {},
   "outputs": [],
   "source": []
  }
 ],
 "metadata": {
  "kernelspec": {
   "display_name": "Python 2",
   "language": "python",
   "name": "python2"
  },
  "language_info": {
   "codemirror_mode": {
    "name": "ipython",
    "version": 2
   },
   "file_extension": ".py",
   "mimetype": "text/x-python",
   "name": "python",
   "nbconvert_exporter": "python",
   "pygments_lexer": "ipython2",
   "version": "2.7.14"
  }
 },
 "nbformat": 4,
 "nbformat_minor": 2
}
