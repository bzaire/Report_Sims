{
 "cells": [
  {
   "cell_type": "markdown",
   "metadata": {},
   "source": [
    "# Simulations setup\n",
    "\n",
    "\n",
    "## Thermodinamic profiles\n",
    "We split the thermodynamical quantities in two components: static (reference) state and fluctuations around this static state. This reference state, indicated by an overbar, is assumed to be an ideal gas nearly adiabatic given by \n",
    "\\begin{equation} \n",
    "\\frac{1}{\\bar{T}}\\frac{d\\bar{T}}{dr}  =  \\epsilon_\\mathrm{s} \\frac{d\\bar{s}}{dr}  - \\mathrm{Di} \\alpha_\\mathrm{o}g(r) \n",
    "\\end{equation}\n",
    "and  \n",
    "\\begin{equation} \n",
    "\\frac{1}{\\bar{\\rho}}\\frac{d\\bar{\\rho}}{d r}  =  \\epsilon_\\mathrm{s} \\frac{d\\bar{s}}{d r}  - \\frac{\\mathrm{Di} \\alpha_\\mathrm{o}}{\\Gamma}g(r),\n",
    "\\end{equation}\n",
    "where the condition $ \\epsilon_\\mathrm{s} \\ll 1$ is necessary to ensure that the governing equations still hold near adiabaticity. \n",
    "\n",
    "Here, $ \\mathrm{d}\\bar{s}/\\mathrm{d}r $ is a prescribed non-adiabaticity that controls the radial stratification in the simulation domain. Stably-stratified regions occur whenever $ \\mathrm{d}\\bar{s}/\\mathrm{d}r > 0 $, while negative gradients set convectively-unstable regions. In model **(i)** convection is set by imposing $ \\mathrm{d}\\bar{s}/\\mathrm{d}r  = -1$ in the entire radial domain,  i.e, $r \\in (0.6,1.0)r_\\mathrm{o}$. On the other hand, in model **(ii)** the non-adiabaticity is given by\n",
    "\\begin{equation}\n",
    "    \\frac{d\\bar{s}}{dr}  = \n",
    "        \\begin{cases}\n",
    "         \t \\left(\\frac{N}{\\Omega}\\right)^2 \\frac{\\mathrm{Pr}}{\\mathrm{Ra} \\mathrm{Ek}^2}, \\ \\ \\  r < 0.6 r_\\mathrm{o}, \\\\\n",
    "        \t\t-1, \\ \\ \\ r \\ge 0.6 r_\\mathrm{o} ,      \n",
    "        \\end{cases}\n",
    "\\end{equation}\n",
    "a profile that creates a stably-stratified layer for $ r < 0.6 r_\\mathrm{o}$. The amplitude of this stable layer is a function of the non-dimensional numbers and the ratio of the Brunt-Vaisala frequency ($N$) to the angular velocity. \n",
    "\n",
    "In the full set of simulations $\\mathrm{Ek} = 1.6 \\times 10^{-5}$, $\\mathrm{Pr} = 1$, and $\\mathrm{Pm} = 5$. **We chose to keep $N/\\Omega=2$ in this first analysis of the stably-stratification impact on the magnetic field topology**.  $\\mathrm{Di}$ is varied to _**probe the effect of the density contrast**_.\n",
    "The imposed non-adiabaticity is shown in the figure below for different Rayleigh numbers.\n",
    "\n",
    "<img src=\"figs/dsdr.png\" title=\"Ra\" />\n",
    "\n",
    "\n",
    "\n",
    "\n",
    "\n"
   ]
  },
  {
   "cell_type": "markdown",
   "metadata": {},
   "source": [
    "## Cases \n",
    "Parametric studies were performed for both setups. Three different density contrasts were simulated, with the density constrast being defined as the constrast in the convective region for both setups (either fully convective or stable+convective). The runs were the following:\n",
    "\n",
    "- $N_\\rho = 1$: \n",
    "    - Ra = $1.22 \\times 10^6$, $1.6 \\times 10^6$, $2.0 \\times 10^6$, $2.66 \\times 10^6$, $4.0 \\times 10^6$, $8.0 \\times 10^6$, $16 \\times 10^6$    \n",
    "- $N_\\rho = 1.5$: \n",
    "    - Ra = $1.22 \\times 10^6$, $1.6 \\times 10^6$, $2.0 \\times 10^6$, $2.66 \\times 10^6$, $4.0 \\times 10^6$, $8.0 \\times 10^6$, $16 \\times 10^6$\n",
    "- $N_\\rho = 3$: \n",
    "    - Ra = $2.0 \\times 10^6$, $4.0 \\times 10^6$, $8.0 \\times 10^6$, $16 \\times 10^6$\n",
    "       \n",
    "***\n",
    "**OBS**: Here we don't use the Rayleigh number as defined in the simulations, but using the CZ size as the lenght-scale. $$\\mathrm{Ra} = \\frac{g_\\mathrm{o} r_\\mathrm{CZ}^4}{c_\\mathrm{p}\\kappa\\nu} \\left| \\frac{d\\bar{s}}{dr} \\right|_{r_\\mathrm{o}}$$\n",
    "where, $\\nu$ is the viscosity, $\\kappa$ is the thermal diffusivity, and $r_\\mathrm{CZ} = 0.4$ The dimensionless gravity profile adopted is $g(r) = -\\frac{7.36 r}{r_\\mathrm{o}} +  \\frac{4.99 r^2}{r_\\mathrm{o}^2} +  \\frac{3.71 r_\\mathrm{o}}{r} -  \\frac{0.34r_\\mathrm{o}^2}{r^2}$.\n",
    "***\n",
    "\n",
    "\n",
    "We can express each case in terms of its criticality. The critical Rayleigh number changes with the setup and the density contrast considered. The figure below summarizes all the runs. The color in each symbol represents different simulations setups, with _fully convective runs indicated by black and partially convective runs by red_.\n",
    "\n",
    "\n",
    "<img src=\"figs/cases.png\" title=\"Simulations\" />\n",
    "\n",
    "\n"
   ]
  },
  {
   "cell_type": "code",
   "execution_count": null,
   "metadata": {},
   "outputs": [],
   "source": []
  }
 ],
 "metadata": {
  "kernelspec": {
   "display_name": "Python 3",
   "language": "python",
   "name": "python3"
  },
  "language_info": {
   "codemirror_mode": {
    "name": "ipython",
    "version": 3
   },
   "file_extension": ".py",
   "mimetype": "text/x-python",
   "name": "python",
   "nbconvert_exporter": "python",
   "pygments_lexer": "ipython3",
   "version": "3.7.2"
  },
  "latex_envs": {
   "LaTeX_envs_menu_present": true,
   "autoclose": false,
   "autocomplete": true,
   "bibliofile": "biblio.bib",
   "cite_by": "apalike",
   "current_citInitial": 1,
   "eqLabelWithNumbers": true,
   "eqNumInitial": 1,
   "hotkeys": {
    "equation": "Ctrl-E",
    "itemize": "Ctrl-I"
   },
   "labels_anchors": false,
   "latex_user_defs": false,
   "report_style_numbering": false,
   "user_envs_cfg": false
  }
 },
 "nbformat": 4,
 "nbformat_minor": 2
}
