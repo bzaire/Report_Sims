{
 "cells": [
  {
   "cell_type": "markdown",
   "metadata": {},
   "source": [
    "# Fully convective simulations: the flux imposed case \n",
    "\n",
    "We start by trying to reproduce a simualtion performed by Thomas Gastine on its paper in 2012.\n",
    "We define the convective region by seting a cosntant negative gradient in the background entropy profile, $\\frac{dS}{dr} = -1$. "
   ]
  },
  {
   "cell_type": "markdown",
   "metadata": {},
   "source": [
    "### Comparison between different approachs on case $Ra = 2.5 Ra_c$\n",
    "\n",
    "- Sim1: Case started from previous progenitor ($Ra = 2.0 Ra_c$)"
   ]
  },
  {
   "cell_type": "code",
   "execution_count": 2,
   "metadata": {},
   "outputs": [],
   "source": [
    "import os \n",
    "from magic import *\n",
    "PATH = '/gpfs/work/p19031/zaire/'\n",
    "FIGNAME = 'dip_cmb_FC'\n",
    "FIGNAME2 = 'ro_FC'\n"
   ]
  },
  {
   "cell_type": "code",
   "execution_count": 23,
   "metadata": {},
   "outputs": [],
   "source": [
    "SIM1 = 'mhd/Nr15Ek5Ra7dS200Pm5-FC'\n",
    "os.chdir(PATH+SIM1)\n",
    "ts1 = MagicTs(field='dipole', all=True, iplot=False)\n",
    "rad1 = MagicRadial(field='parR', iplot=False)"
   ]
  },
  {
   "cell_type": "code",
   "execution_count": 29,
   "metadata": {},
   "outputs": [],
   "source": [
    "os.chdir(PATH+'Report_Sims/figs')\n",
    "it1 = ts1.time.argsort()\n",
    "plt.plot(ts1.time[it1], ts1.dip_cmb[it1], 'k')\n",
    "plt.plot(ts1.time[it1], ts1.dipolarity[it1], 'r')\n",
    "plt.ylabel(r'$f_\\mathrm{dip}$')\n",
    "plt.xlabel(r'$t \\; (\\tau_\\nu)$')\n",
    "plt.ylim((0.,1.))\n",
    "plt.tight_layout()\n",
    "plt.savefig(FIGNAME+'.png')\n",
    "plt.show()"
   ]
  },
  {
   "cell_type": "code",
   "execution_count": 25,
   "metadata": {},
   "outputs": [
    {
     "data": {
      "text/plain": [
       "array([0.00228293, 0.00232579, 0.00236404, ..., 0.01741252, 0.01752449,\n",
       "       0.01767253])"
      ]
     },
     "execution_count": 25,
     "metadata": {},
     "output_type": "execute_result"
    }
   ],
   "source": []
  },
  {
   "cell_type": "code",
   "execution_count": 4,
   "metadata": {},
   "outputs": [],
   "source": [
    "SIM2 = 'mhd/Nr15Ek5Ra7dS200Pm5-FCd_restart'\n",
    "os.chdir(PATH+SIM2)\n",
    "ts2 = MagicTs(field='dipole', all=True, iplot=False)\n",
    "rad2 = MagicRadial(field='parR', iplot=False)"
   ]
  },
  {
   "cell_type": "code",
   "execution_count": 31,
   "metadata": {},
   "outputs": [],
   "source": [
    "os.chdir(PATH+'Report_Sims/figs')\n",
    "it2 = ts2.time.argsort()\n",
    "plt.plot(ts2.time[it2], ts2.dip_cmb[it2], 'k')\n",
    "plt.plot(ts2.time[it2], ts2.dipolarity[it2], 'r')\n",
    "\n",
    "plt.ylabel(r'$f_\\mathrm{dip}$')\n",
    "plt.xlabel(r'$t \\; (\\tau_\\nu)$')\n",
    "plt.ylim((0.,1.))\n",
    "plt.tight_layout()\n",
    "plt.savefig(FIGNAME+'d_restart.png')\n",
    "plt.show()"
   ]
  },
  {
   "cell_type": "code",
   "execution_count": 42,
   "metadata": {},
   "outputs": [
    {
     "data": {
      "text/plain": [
       "0.07710796786165586"
      ]
     },
     "execution_count": 42,
     "metadata": {},
     "output_type": "execute_result"
    }
   ],
   "source": [
    "ts2.dip_cmb.mean()"
   ]
  },
  {
   "cell_type": "code",
   "execution_count": 5,
   "metadata": {},
   "outputs": [],
   "source": [
    "SIM3 = 'mhd/Nr15Ek5Ra7dS200Pm5-FCd'\n",
    "os.chdir(PATH+SIM3)\n",
    "ts3 = MagicTs(field='dipole', all=True, iplot=False)\n",
    "rad3 = MagicRadial(field='parR', iplot=False)"
   ]
  },
  {
   "cell_type": "code",
   "execution_count": 33,
   "metadata": {},
   "outputs": [],
   "source": [
    "os.chdir(PATH+'Report_Sims/figs')\n",
    "it3 = ts3.time.argsort()\n",
    "plt.plot(ts3.time[it3], ts3.dip_cmb[it3], 'k')\n",
    "plt.plot(ts3.time[it3], ts3.dipolarity[it3], 'r')\n",
    "plt.ylabel(r'$f_\\mathrm{dip}$')\n",
    "plt.xlabel(r'$t \\; (\\tau_\\nu)$')\n",
    "plt.ylim((0.,1.))\n",
    "plt.tight_layout()\n",
    "plt.savefig(FIGNAME+'d.png')\n",
    "plt.show()"
   ]
  },
  {
   "cell_type": "code",
   "execution_count": 34,
   "metadata": {},
   "outputs": [
    {
     "data": {
      "text/plain": [
       "0.06876672365027732"
      ]
     },
     "execution_count": 34,
     "metadata": {},
     "output_type": "execute_result"
    }
   ],
   "source": [
    "itc = ts3.time > 0.5\n",
    "ts3.dip_cmb[itc].mean()"
   ]
  },
  {
   "cell_type": "code",
   "execution_count": 16,
   "metadata": {},
   "outputs": [
    {
     "name": "stderr",
     "output_type": "stream",
     "text": [
      "No handlers could be found for logger \"matplotlib.legend\"\n"
     ]
    }
   ],
   "source": [
    "os.chdir(PATH+'Report_Sims/figs')\n",
    "plt.plot(rad1.radius, rad1.urol, '--k', label='From 2.0Rac')\n",
    "plt.plot(rad2.radius, rad2.urol, '--r', label='From 2.0Rac w/ Dip')\n",
    "plt.plot(rad3.radius, rad3.urol, '--b', label='From zero w/ Dip')\n",
    "plt.ylabel(r'$Ro_\\mathrm{l}$')\n",
    "plt.xlabel(r'$r \\; (r_\\mathrm{o})$')\n",
    "plt.legend()\n",
    "plt.tight_layout()\n",
    "plt.savefig(FIGNAME2+'.png')\n",
    "plt.show()\n",
    "\n",
    "scal = 0.4\n",
    "os.chdir(PATH+'Report_Sims/figs')\n",
    "plt.scatter(rad1.urol.mean()/scal, ts1.dip_cmb.mean())\n",
    "plt.scatter(rad2.urol.mean()/scal, ts2.dip_cmb.mean())\n",
    "plt.scatter(rad3.urol.mean()/scal, ts3.dip_cmb.mean())\n",
    "plt.ylabel(r'$Ro_\\mathrm{l}$')\n",
    "plt.xlabel(r'$r \\; (r_\\mathrm{o})$')\n",
    "plt.legend()\n",
    "plt.tight_layout()\n",
    "plt.savefig(FIGNAME2+'.png')\n",
    "plt.show()"
   ]
  },
  {
   "cell_type": "code",
   "execution_count": 1,
   "metadata": {},
   "outputs": [
    {
     "ename": "NameError",
     "evalue": "name 'PATH' is not defined",
     "output_type": "error",
     "traceback": [
      "\u001b[0;31m---------------------------------------------------------------------------\u001b[0m",
      "\u001b[0;31mNameError\u001b[0m                                 Traceback (most recent call last)",
      "\u001b[0;32m<ipython-input-1-b1ccca3262f0>\u001b[0m in \u001b[0;36m<module>\u001b[0;34m()\u001b[0m\n\u001b[0;32m----> 1\u001b[0;31m \u001b[0mos\u001b[0m\u001b[0;34m.\u001b[0m\u001b[0mchdir\u001b[0m\u001b[0;34m(\u001b[0m\u001b[0mPATH\u001b[0m\u001b[0;34m+\u001b[0m\u001b[0;34m\"Report_Sims\"\u001b[0m\u001b[0;34m)\u001b[0m\u001b[0;34m\u001b[0m\u001b[0m\n\u001b[0m",
      "\u001b[0;31mNameError\u001b[0m: name 'PATH' is not defined"
     ]
    }
   ],
   "source": [
    "os.chdir(PATH+\"Report_Sims\")"
   ]
  },
  {
   "cell_type": "markdown",
   "metadata": {},
   "source": [
    "| Sim1                    | Sim2                              | Sim3                     |\n",
    "|------------------------ | --------------------------------- | -------------------------|\n",
    "|![](figs/dip_cmb_FC.png) | ![](figs/dip_cmb_FCd_restart.png) | ![](figs/dip_cmb_FCd.png)|\n",
    "\n",
    "\n",
    "![](figs/ro_FC.png)"
   ]
  },
  {
   "cell_type": "code",
   "execution_count": null,
   "metadata": {},
   "outputs": [],
   "source": []
  }
 ],
 "metadata": {
  "kernelspec": {
   "display_name": "Python 2",
   "language": "python",
   "name": "python2"
  },
  "language_info": {
   "codemirror_mode": {
    "name": "ipython",
    "version": 2
   },
   "file_extension": ".py",
   "mimetype": "text/x-python",
   "name": "python",
   "nbconvert_exporter": "python",
   "pygments_lexer": "ipython2",
   "version": "2.7.14"
  }
 },
 "nbformat": 4,
 "nbformat_minor": 2
}
