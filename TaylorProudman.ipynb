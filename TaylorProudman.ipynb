{
 "cells": [
  {
   "cell_type": "markdown",
   "metadata": {},
   "source": [
    "# Taylor-Proudman constraint\n",
    "\n",
    "$$ \\frac{d \\langle\\Omega\\rangle_\\phi}{dz} $$\n",
    "\n",
    "<img src=\"figs/dodzNr3.png\" title=\"n3\" />\n",
    "<img src=\"figs/dodzNr15.png\" title=\"n15\" />\n",
    "<img src=\"figs/dodzNr1.png\" title=\"n1\" />\n",
    "\n",
    "\n",
    "\n",
    "\n",
    "$$ \\left\\langle\\frac{d\\bar{S}}{d\\theta}\\right\\rangle_{\\phi} $$\n",
    "\n",
    "<img src=\"figs/dsdthNr3.png\" title=\"n3\" />\n",
    "<img src=\"figs/dsdthNr15.png\" title=\"n15\" />\n",
    "<img src=\"figs/dsdthNr1.png\" title=\"n1\" />\n",
    "\n",
    "\n"
   ]
  },
  {
   "cell_type": "code",
   "execution_count": null,
   "metadata": {},
   "outputs": [],
   "source": []
  }
 ],
 "metadata": {
  "kernelspec": {
   "display_name": "Python 3",
   "language": "python",
   "name": "python3"
  },
  "language_info": {
   "codemirror_mode": {
    "name": "ipython",
    "version": 3
   },
   "file_extension": ".py",
   "mimetype": "text/x-python",
   "name": "python",
   "nbconvert_exporter": "python",
   "pygments_lexer": "ipython3",
   "version": "3.7.2"
  },
  "latex_envs": {
   "LaTeX_envs_menu_present": true,
   "autoclose": false,
   "autocomplete": true,
   "bibliofile": "biblio.bib",
   "cite_by": "apalike",
   "current_citInitial": 1,
   "eqLabelWithNumbers": true,
   "eqNumInitial": 1,
   "hotkeys": {
    "equation": "Ctrl-E",
    "itemize": "Ctrl-I"
   },
   "labels_anchors": false,
   "latex_user_defs": false,
   "report_style_numbering": false,
   "user_envs_cfg": false
  }
 },
 "nbformat": 4,
 "nbformat_minor": 2
}
